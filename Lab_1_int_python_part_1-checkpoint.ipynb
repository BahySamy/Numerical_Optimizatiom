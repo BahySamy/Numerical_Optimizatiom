{
 "cells": [
  {
   "cell_type": "code",
   "execution_count": 1,
   "id": "3ee56e51",
   "metadata": {},
   "outputs": [],
   "source": [
    "import numpy as np"
   ]
  },
  {
   "cell_type": "markdown",
   "id": "ebb00952",
   "metadata": {},
   "source": [
    "## Question 1 "
   ]
  },
  {
   "cell_type": "code",
   "execution_count": 3,
   "id": "0c185b81",
   "metadata": {},
   "outputs": [
    {
     "name": "stdout",
     "output_type": "stream",
     "text": [
      "1.20.2\n"
     ]
    }
   ],
   "source": [
    "print(np.version.version)"
   ]
  },
  {
   "cell_type": "markdown",
   "id": "9327b289",
   "metadata": {},
   "source": [
    "## Question 2"
   ]
  },
  {
   "cell_type": "code",
   "execution_count": 5,
   "id": "a6a45dbb",
   "metadata": {},
   "outputs": [
    {
     "data": {
      "text/plain": [
       "array([(b'', 0., 0), (b'', 0., 0), (b'', 0., 0)],\n",
       "      dtype=[('name', 'S6'), ('height', '<f8'), ('class', '<i8')])"
      ]
     },
     "execution_count": 5,
     "metadata": {},
     "output_type": "execute_result"
    }
   ],
   "source": [
    "students_data_def = [('name','S6'),('height','f8'),('class','i8')]\n",
    "student_array = np.zeros((3), dtype=students_data_def)\n",
    "student_array"
   ]
  },
  {
   "cell_type": "code",
   "execution_count": 13,
   "id": "e2667d93",
   "metadata": {},
   "outputs": [
    {
     "data": {
      "text/plain": [
       "array([(b'bahy', 1.72, 6), (b'ehab', 1.7 , 6), (b'abdo', 1.8 , 6)],\n",
       "      dtype=[('name', 'S6'), ('height', '<f8'), ('class', '<i8')])"
      ]
     },
     "execution_count": 13,
     "metadata": {},
     "output_type": "execute_result"
    }
   ],
   "source": [
    "student_array[0] = ('bahy', 1.72, 6)\n",
    "student_array[1] = ('ehab', 1.70, 6)\n",
    "student_array[2] = ('abdo', 1.80, 6)\n",
    "student_array"
   ]
  },
  {
   "cell_type": "code",
   "execution_count": 14,
   "id": "4c6164ed",
   "metadata": {},
   "outputs": [
    {
     "data": {
      "text/plain": [
       "array([(b'ehab', 1.7 , 6), (b'bahy', 1.72, 6), (b'abdo', 1.8 , 6)],\n",
       "      dtype=[('name', 'S6'), ('height', '<f8'), ('class', '<i8')])"
      ]
     },
     "execution_count": 14,
     "metadata": {},
     "output_type": "execute_result"
    }
   ],
   "source": [
    "np.sort(student_array, order ='height')"
   ]
  },
  {
   "cell_type": "code",
   "execution_count": null,
   "id": "a1ad6f90",
   "metadata": {},
   "outputs": [],
   "source": []
  }
 ],
 "metadata": {
  "kernelspec": {
   "display_name": "Python 3",
   "language": "python",
   "name": "python3"
  },
  "language_info": {
   "codemirror_mode": {
    "name": "ipython",
    "version": 3
   },
   "file_extension": ".py",
   "mimetype": "text/x-python",
   "name": "python",
   "nbconvert_exporter": "python",
   "pygments_lexer": "ipython3",
   "version": "3.8.10"
  }
 },
 "nbformat": 4,
 "nbformat_minor": 5
}
