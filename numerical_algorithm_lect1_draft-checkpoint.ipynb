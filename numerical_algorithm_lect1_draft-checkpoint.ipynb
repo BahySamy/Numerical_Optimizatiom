{
 "cells": [
  {
   "cell_type": "code",
   "execution_count": 15,
   "id": "d4bbbf96",
   "metadata": {},
   "outputs": [
    {
     "name": "stdout",
     "output_type": "stream",
     "text": [
      "-0.75\n",
      "-1.125\n",
      "-0.9375\n",
      "-1.03125\n",
      "-0.984375\n",
      "-1.0078125\n",
      "-0.99609375\n",
      "-1.001953125\n",
      "-0.9990234375\n",
      "-1.00048828125\n",
      "-0.999755859375\n",
      "-1.0001220703125\n",
      "-0.99993896484375\n",
      "-1.000030517578125\n"
     ]
    },
    {
     "data": {
      "text/plain": [
       "-1.000030517578125"
      ]
     },
     "execution_count": 15,
     "metadata": {},
     "output_type": "execute_result"
    }
   ],
   "source": [
    "#bisection method\n",
    "def f(x):\n",
    "    return 2*x**2+6*x+4\n",
    "\n",
    "def bisection(f, a, b, t=1e-4):\n",
    "    \n",
    "    while abs(b - a) > t:\n",
    "        g = ( a + b )/2\n",
    "        if f(a) * f(g) < 0:\n",
    "            b = g\n",
    "        else:\n",
    "            a = g\n",
    "            \n",
    "        print(g)\n",
    "    \n",
    "    return g\n",
    "    \n",
    "\n",
    "bisection(f,-1.5,0)\n",
    "    "
   ]
  },
  {
   "cell_type": "code",
   "execution_count": null,
   "id": "7a211d63",
   "metadata": {},
   "outputs": [],
   "source": [
    "#fixed point\n",
    "import numpy as np \n"
   ]
  },
  {
   "cell_type": "code",
   "execution_count": null,
   "id": "8da5cc4c",
   "metadata": {},
   "outputs": [],
   "source": []
  },
  {
   "cell_type": "code",
   "execution_count": null,
   "id": "08b9216c",
   "metadata": {},
   "outputs": [],
   "source": []
  },
  {
   "cell_type": "code",
   "execution_count": null,
   "id": "8ae011c5",
   "metadata": {},
   "outputs": [],
   "source": []
  },
  {
   "cell_type": "code",
   "execution_count": null,
   "id": "84145a54",
   "metadata": {},
   "outputs": [],
   "source": []
  }
 ],
 "metadata": {
  "kernelspec": {
   "display_name": "Python 3",
   "language": "python",
   "name": "python3"
  },
  "language_info": {
   "codemirror_mode": {
    "name": "ipython",
    "version": 3
   },
   "file_extension": ".py",
   "mimetype": "text/x-python",
   "name": "python",
   "nbconvert_exporter": "python",
   "pygments_lexer": "ipython3",
   "version": "3.8.10"
  }
 },
 "nbformat": 4,
 "nbformat_minor": 5
}
