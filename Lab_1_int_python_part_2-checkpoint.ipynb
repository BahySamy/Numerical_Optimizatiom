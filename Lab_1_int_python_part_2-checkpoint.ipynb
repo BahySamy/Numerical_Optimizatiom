{
 "cells": [
  {
   "cell_type": "markdown",
   "id": "d4fea845",
   "metadata": {},
   "source": [
    "## Question 3"
   ]
  },
  {
   "cell_type": "code",
   "execution_count": 2,
   "id": "e23e2b7d",
   "metadata": {},
   "outputs": [],
   "source": [
    "import numpy as np"
   ]
  },
  {
   "cell_type": "code",
   "execution_count": 3,
   "id": "42186016",
   "metadata": {},
   "outputs": [
    {
     "data": {
      "text/plain": [
       "array([ 1,  2,  3, 10, 52, 36, 78,  2,  7,  9,  8,  3])"
      ]
     },
     "execution_count": 3,
     "metadata": {},
     "output_type": "execute_result"
    }
   ],
   "source": [
    "arr = np.array([1,2,3,10,52,36,78,2,7,9,8,3])\n",
    "arr"
   ]
  },
  {
   "cell_type": "code",
   "execution_count": 5,
   "id": "fb3fd5a9",
   "metadata": {},
   "outputs": [
    {
     "data": {
      "text/plain": [
       "array([False,  True, False,  True,  True,  True,  True,  True, False,\n",
       "       False,  True, False])"
      ]
     },
     "execution_count": 5,
     "metadata": {},
     "output_type": "execute_result"
    }
   ],
   "source": [
    "arr_bolean_mask = (arr % 2 ==0)\n",
    "arr_bolean_mask"
   ]
  },
  {
   "cell_type": "code",
   "execution_count": 6,
   "id": "174965b3",
   "metadata": {},
   "outputs": [
    {
     "data": {
      "text/plain": [
       "array([ 2, 10, 52, 36, 78,  2,  8])"
      ]
     },
     "execution_count": 6,
     "metadata": {},
     "output_type": "execute_result"
    }
   ],
   "source": [
    "arr_final = arr[arr_bolean_mask]\n",
    "arr_final"
   ]
  },
  {
   "cell_type": "markdown",
   "id": "0d0a52c6",
   "metadata": {},
   "source": [
    "## Question 4 "
   ]
  },
  {
   "cell_type": "code",
   "execution_count": 10,
   "id": "f958eb09",
   "metadata": {},
   "outputs": [
    {
     "data": {
      "text/plain": [
       "array([100, 110, 120, 130, 140, 150, 160, 170, 180, 190])"
      ]
     },
     "execution_count": 10,
     "metadata": {},
     "output_type": "execute_result"
    }
   ],
   "source": [
    "integer_array = np.arange(100,200,10)\n",
    "integer_array"
   ]
  },
  {
   "cell_type": "code",
   "execution_count": 13,
   "id": "872b98b4",
   "metadata": {},
   "outputs": [
    {
     "data": {
      "text/plain": [
       "array([[100, 110],\n",
       "       [120, 130],\n",
       "       [140, 150],\n",
       "       [160, 170],\n",
       "       [180, 190]])"
      ]
     },
     "execution_count": 13,
     "metadata": {},
     "output_type": "execute_result"
    }
   ],
   "source": [
    "reshaped_array = integer_array.reshape((5,2))\n",
    "reshaped_array"
   ]
  },
  {
   "cell_type": "code",
   "execution_count": 19,
   "id": "4ebc8281",
   "metadata": {},
   "outputs": [],
   "source": [
    "np.savetxt('Desktop\\\\reshaped_array.csv', reshaped_array, fmt = '10.5%f', delimiter = '|' )"
   ]
  },
  {
   "cell_type": "code",
   "execution_count": null,
   "id": "52aa6aa0",
   "metadata": {},
   "outputs": [],
   "source": []
  }
 ],
 "metadata": {
  "kernelspec": {
   "display_name": "Python 3",
   "language": "python",
   "name": "python3"
  },
  "language_info": {
   "codemirror_mode": {
    "name": "ipython",
    "version": 3
   },
   "file_extension": ".py",
   "mimetype": "text/x-python",
   "name": "python",
   "nbconvert_exporter": "python",
   "pygments_lexer": "ipython3",
   "version": "3.8.10"
  }
 },
 "nbformat": 4,
 "nbformat_minor": 5
}
