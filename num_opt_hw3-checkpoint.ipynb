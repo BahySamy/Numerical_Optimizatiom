{
 "cells": [
  {
   "cell_type": "code",
   "execution_count": 1,
   "id": "5fe73394",
   "metadata": {},
   "outputs": [],
   "source": [
    "import numpy as np \n",
    "import pandas as pd\n",
    "import matplotlib.pyplot as plt\n",
    "%matplotlib inline"
   ]
  },
  {
   "cell_type": "code",
   "execution_count": 2,
   "id": "a9850614",
   "metadata": {},
   "outputs": [
    {
     "data": {
      "text/html": [
       "<div>\n",
       "<style scoped>\n",
       "    .dataframe tbody tr th:only-of-type {\n",
       "        vertical-align: middle;\n",
       "    }\n",
       "\n",
       "    .dataframe tbody tr th {\n",
       "        vertical-align: top;\n",
       "    }\n",
       "\n",
       "    .dataframe thead th {\n",
       "        text-align: right;\n",
       "    }\n",
       "</style>\n",
       "<table border=\"1\" class=\"dataframe\">\n",
       "  <thead>\n",
       "    <tr style=\"text-align: right;\">\n",
       "      <th></th>\n",
       "      <th>0</th>\n",
       "      <th>1</th>\n",
       "    </tr>\n",
       "  </thead>\n",
       "  <tbody>\n",
       "    <tr>\n",
       "      <th>0</th>\n",
       "      <td>2.9</td>\n",
       "      <td>4.0</td>\n",
       "    </tr>\n",
       "    <tr>\n",
       "      <th>1</th>\n",
       "      <td>6.7</td>\n",
       "      <td>7.4</td>\n",
       "    </tr>\n",
       "    <tr>\n",
       "      <th>2</th>\n",
       "      <td>4.9</td>\n",
       "      <td>5.0</td>\n",
       "    </tr>\n",
       "    <tr>\n",
       "      <th>3</th>\n",
       "      <td>7.9</td>\n",
       "      <td>7.2</td>\n",
       "    </tr>\n",
       "    <tr>\n",
       "      <th>4</th>\n",
       "      <td>9.8</td>\n",
       "      <td>7.9</td>\n",
       "    </tr>\n",
       "  </tbody>\n",
       "</table>\n",
       "</div>"
      ],
      "text/plain": [
       "     0    1\n",
       "0  2.9  4.0\n",
       "1  6.7  7.4\n",
       "2  4.9  5.0\n",
       "3  7.9  7.2\n",
       "4  9.8  7.9"
      ]
     },
     "execution_count": 2,
     "metadata": {},
     "output_type": "execute_result"
    }
   ],
   "source": [
    "data = pd.read_csv('Desktop/RegData2.csv', header = None)\n",
    "data.head()"
   ]
  },
  {
   "cell_type": "code",
   "execution_count": null,
   "id": "7f8bd617",
   "metadata": {},
   "outputs": [],
   "source": []
  },
  {
   "cell_type": "code",
   "execution_count": 4,
   "id": "557ed205",
   "metadata": {},
   "outputs": [
    {
     "name": "stdout",
     "output_type": "stream",
     "text": [
      "0.00015702110600603088\n"
     ]
    }
   ],
   "source": [
    "# Batch GD\n",
    "x = np.array(data[0])\n",
    "x_reshaped = x.reshape(x.shape[0],1)\n",
    "ones = np.ones(x.shape[0]).reshape((x.shape[0], 1))\n",
    "x_final = np.hstack([ones,x_reshaped])\n",
    "y = np.array(data[1])\n",
    "theta = np.array([0,0])\n",
    "alpha = .001\n",
    "\n",
    "cost_array =[]\n",
    "theta_array =[]\n",
    "\n",
    "for i in range(10000):\n",
    "    h_theta = x_final @ theta\n",
    "    cost_array.append((1/len(y)) * sum((h_theta - y)**2))\n",
    "    gradient = (h_theta - y ) @ x_final\n",
    "    theta = theta - alpha * gradient\n",
    "    theta_array.append(theta[1])\n",
    "\n",
    "\n",
    "print(np.linalg.norm(gradient,2))"
   ]
  },
  {
   "cell_type": "code",
   "execution_count": 5,
   "id": "9dcf66e2",
   "metadata": {},
   "outputs": [
    {
     "data": {
      "text/plain": [
       "Text(0, 0.5, 'Y Values')"
      ]
     },
     "execution_count": 5,
     "metadata": {},
     "output_type": "execute_result"
    },
    {
     "data": {
      "image/png": "[encoded data removed]",
      "text/plain": [
       "<Figure size 432x288 with 1 Axes>"
      ]
     },
     "metadata": {
      "needs_background": "light"
     },
     "output_type": "display_data"
    }
   ],
   "source": [
    "plt.scatter(x, y)\n",
    "plt.plot(x, h_theta)\n",
    "plt.title('Real Output Vs Predicted Output')\n",
    "plt.xlabel('X Values')\n",
    "plt.ylabel('Y Values')"
   ]
  },
  {
   "cell_type": "code",
   "execution_count": 6,
   "id": "79bad68b",
   "metadata": {},
   "outputs": [
    {
     "data": {
      "text/plain": [
       "0.8236599106075065"
      ]
     },
     "execution_count": 6,
     "metadata": {},
     "output_type": "execute_result"
    }
   ],
   "source": [
    "from sklearn.metrics import r2_score\n",
    "r2_score(y, h_theta)"
   ]
  },
  {
   "cell_type": "code",
   "execution_count": 8,
   "id": "6e209685",
   "metadata": {},
   "outputs": [
    {
     "data": {
      "text/plain": [
       "Text(0, 0.5, 'Cost Function')"
      ]
     },
     "execution_count": 8,
     "metadata": {},
     "output_type": "execute_result"
    },
    {
     "data": {
      "image/png": "[encoded data removed]",
      "text/plain": [
       "<Figure size 432x288 with 1 Axes>"
      ]
     },
     "metadata": {
      "needs_background": "light"
     },
     "output_type": "display_data"
    }
   ],
   "source": [
    "plt.plot(np.arange(10000), cost_array)\n",
    "plt.title('Epocks Vs cost Function')\n",
    "plt.xlabel('Numbers of Epochs')\n",
    "plt.ylabel('Cost Function')"
   ]
  },
  {
   "cell_type": "code",
   "execution_count": null,
   "id": "9fd370a1",
   "metadata": {},
   "outputs": [],
   "source": []
  },
  {
   "cell_type": "code",
   "execution_count": 19,
   "id": "7cc59bbd",
   "metadata": {},
   "outputs": [
    {
     "name": "stdout",
     "output_type": "stream",
     "text": [
      "0.01717294091746412\n",
      "[1.76871851 0.59957237]\n"
     ]
    }
   ],
   "source": [
    "# Stochastic GD\n",
    "x = np.array(data[0])\n",
    "x_reshaped = x.reshape(x.shape[0],1)\n",
    "ones = np.ones(x.shape[0]).reshape((x.shape[0], 1))\n",
    "x_final = np.hstack([ones,x_reshaped])\n",
    "y = np.array(data[1])\n",
    "theta = np.array([0,0])\n",
    "alpha = .01\n",
    "\n",
    "cost_array = []\n",
    "\n",
    "for k in range(1000):\n",
    "    for i in range(len(x)):\n",
    "        h_theta = theta[0] + theta[1] * x[i] \n",
    "        cost_array.append((h_theta - y[i])**2)\n",
    "        gradient0 = (1/2)* (h_theta - y[i])\n",
    "        gradient1 = (1/2)* (h_theta - y[i]) * x[i]\n",
    "        gradient = np.array([gradient0, gradient1])\n",
    "        theta = theta - alpha * gradient\n",
    "\n",
    "\n",
    "print(np.linalg.norm(gradient, 2))\n",
    "print(theta)"
   ]
  },
  {
   "cell_type": "code",
   "execution_count": 20,
   "id": "8974ac64",
   "metadata": {},
   "outputs": [
    {
     "name": "stdout",
     "output_type": "stream",
     "text": [
      "[3.507478437313653, 5.785853262555177, 4.706623172429032, 6.505340275102102, 7.64452783102066, 5.905767907544412, 5.42610989957951, 5.486067078776332, 5.366152719783116, 4.8265375320218205, 4.586708527439797, 4.406836988650188]\n"
     ]
    }
   ],
   "source": [
    "h_theta_array = []\n",
    "for i in range(len(x)):\n",
    "    h_theta_array.append(theta[0] + theta[1] * x[i])\n",
    "    \n",
    "print(h_theta_array)"
   ]
  },
  {
   "cell_type": "code",
   "execution_count": 21,
   "id": "4f118784",
   "metadata": {},
   "outputs": [
    {
     "data": {
      "text/plain": [
       "Text(0, 0.5, 'Y Values')"
      ]
     },
     "execution_count": 21,
     "metadata": {},
     "output_type": "execute_result"
    },
    {
     "data": {
      "image/png": "[encoded data removed]",
      "text/plain": [
       "<Figure size 432x288 with 1 Axes>"
      ]
     },
     "metadata": {
      "needs_background": "light"
     },
     "output_type": "display_data"
    }
   ],
   "source": [
    "plt.scatter(x, y)\n",
    "plt.plot(x, h_theta_array)\n",
    "plt.title('Real Output Vs Predicted Output')\n",
    "plt.xlabel('X Values')\n",
    "plt.ylabel('Y Values')"
   ]
  },
  {
   "cell_type": "code",
   "execution_count": 23,
   "id": "116687be",
   "metadata": {},
   "outputs": [
    {
     "data": {
      "text/plain": [
       "Text(0, 0.5, 'Cost Function')"
      ]
     },
     "execution_count": 23,
     "metadata": {},
     "output_type": "execute_result"
    },
    {
     "data": {
      "image/png": "[encoded data removed]",
      "text/plain": [
       "<Figure size 432x288 with 1 Axes>"
      ]
     },
     "metadata": {
      "needs_background": "light"
     },
     "output_type": "display_data"
    }
   ],
   "source": [
    "plt.plot(np.arange(12000), cost_array)\n",
    "plt.title(' Epoch Vs cost Function')\n",
    "plt.xlabel('Epoch')\n",
    "plt.ylabel('Cost Function')"
   ]
  },
  {
   "cell_type": "code",
   "execution_count": 25,
   "id": "b25692f6",
   "metadata": {},
   "outputs": [
    {
     "data": {
      "text/plain": [
       "0.7710400817187322"
      ]
     },
     "execution_count": 25,
     "metadata": {},
     "output_type": "execute_result"
    }
   ],
   "source": [
    "from sklearn.metrics import r2_score\n",
    "r2_score(y, h_theta_array)"
   ]
  },
  {
   "cell_type": "code",
   "execution_count": null,
   "id": "8cc0d5b4",
   "metadata": {},
   "outputs": [],
   "source": []
  },
  {
   "cell_type": "code",
   "execution_count": null,
   "id": "10b6c213",
   "metadata": {},
   "outputs": [],
   "source": []
  },
  {
   "cell_type": "code",
   "execution_count": 14,
   "id": "9ac5a5c3",
   "metadata": {},
   "outputs": [
    {
     "name": "stdout",
     "output_type": "stream",
     "text": [
      "(2,)\n"
     ]
    }
   ],
   "source": [
    "#Mimi Batch GD\n",
    "\n",
    "x = np.array(data[0])\n",
    "y = np.array(data[1])\n",
    "x_spli = np.array_split(x,3)\n",
    "y_spli = np.array_split(y,3)\n",
    "\n",
    "batch0 = x_spli[0]\n",
    "batch0_reshaped = batch0.reshape(batch0.shape[0],1)\n",
    "ones = np.ones(batch0.shape[0]).reshape((batch0.shape[0], 1))\n",
    "batch0_final = np.hstack([ones,batch0_reshaped])\n",
    "y0 = y_spli[0]\n",
    "\n",
    "batch1 = x_spli[1]\n",
    "batch1_reshaped = batch1.reshape(batch1.shape[0],1)\n",
    "batch1_final = np.hstack([ones,batch1_reshaped])\n",
    "y1 = y_spli[1]\n",
    "\n",
    "batch2 = x_spli[2]\n",
    "batch2_reshaped = batch2.reshape(batch2.shape[0],1)\n",
    "batch2_final = np.hstack([ones,batch2_reshaped])\n",
    "y2 = y_spli[2]\n",
    "\n",
    "theta = np.array([0,0])\n",
    "alpha = .00001\n",
    "\n",
    "\n",
    "print(theta.shape)"
   ]
  },
  {
   "cell_type": "code",
   "execution_count": 16,
   "id": "e5c1ca00",
   "metadata": {},
   "outputs": [
    {
     "name": "stdout",
     "output_type": "stream",
     "text": [
      "6.010255338439856\n",
      "[0.35614057 0.86495975]\n"
     ]
    }
   ],
   "source": [
    "cost_array = []\n",
    "for i in range(10000):\n",
    "    h_theta = batch0_final @ theta\n",
    "    gradient = (h_theta - y0 ) @ batch0_final\n",
    "    theta = theta - alpha * gradient\n",
    "    \n",
    "    h_theta = batch1_final @ theta\n",
    "    gradient = (h_theta - y1 ) @ batch1_final\n",
    "    theta = theta - alpha * gradient\n",
    "    \n",
    "    h_theta = batch2_final @ theta\n",
    "    gradient = (h_theta - y2 ) @ batch2_final\n",
    "    theta = theta - alpha * gradient\n",
    "    cost_array.append((1/4) * sum((h_theta - y2)**2))\n",
    "\n",
    "print(np.linalg.norm(gradient,2))\n",
    "print(theta)"
   ]
  },
  {
   "cell_type": "code",
   "execution_count": 18,
   "id": "182e8077",
   "metadata": {},
   "outputs": [
    {
     "data": {
      "text/plain": [
       "array([2.86452392, 6.15137072, 4.59444342, 7.18932266, 8.83274627,\n",
       "       6.32436291, 5.63239495, 5.71889084, 5.54589906, 4.7674352 ,\n",
       "       4.42145122, 4.16196354])"
      ]
     },
     "execution_count": 18,
     "metadata": {},
     "output_type": "execute_result"
    }
   ],
   "source": [
    "h_theta = theta[0] + x *theta[1]\n",
    "h_theta"
   ]
  },
  {
   "cell_type": "code",
   "execution_count": 19,
   "id": "11297c59",
   "metadata": {},
   "outputs": [
    {
     "data": {
      "text/plain": [
       "Text(0, 0.5, 'Y Values')"
      ]
     },
     "execution_count": 19,
     "metadata": {},
     "output_type": "execute_result"
    },
    {
     "data": {
      "image/png": "[encoded data removed]",
      "text/plain": [
       "<Figure size 432x288 with 1 Axes>"
      ]
     },
     "metadata": {
      "needs_background": "light"
     },
     "output_type": "display_data"
    }
   ],
   "source": [
    "plt.scatter(x, y)\n",
    "plt.plot(x, h_theta)\n",
    "plt.title('Real Output Vs Predicted Output')\n",
    "plt.xlabel('X Values')\n",
    "plt.ylabel('Y Values')"
   ]
  },
  {
   "cell_type": "code",
   "execution_count": 20,
   "id": "6b7dcee2",
   "metadata": {},
   "outputs": [
    {
     "data": {
      "text/plain": [
       "0.7691472605700207"
      ]
     },
     "execution_count": 20,
     "metadata": {},
     "output_type": "execute_result"
    }
   ],
   "source": [
    "from sklearn.metrics import r2_score\n",
    "r2_score(y, h_theta)"
   ]
  },
  {
   "cell_type": "code",
   "execution_count": null,
   "id": "8dd8e5ca",
   "metadata": {},
   "outputs": [],
   "source": []
  },
  {
   "cell_type": "code",
   "execution_count": null,
   "id": "b6706688",
   "metadata": {},
   "outputs": [],
   "source": []
  },
  {
   "cell_type": "code",
   "execution_count": 6,
   "id": "29325b64",
   "metadata": {},
   "outputs": [
    {
     "name": "stdout",
     "output_type": "stream",
     "text": [
      "0.00015702110600603088\n"
     ]
    }
   ],
   "source": [
    "#Momentum Based GD\n",
    "x = np.array(data[0])\n",
    "x_reshaped = x.reshape(x.shape[0],1)\n",
    "ones = np.ones(x.shape[0]).reshape((x.shape[0], 1))\n",
    "x_final = np.hstack([ones,x_reshaped])\n",
    "y = np.array(data[1])\n",
    "theta = np.array([0,0])\n",
    "alpha = .001\n",
    "gamma = .01\n",
    "vt_1 = np.array([0,0])\n",
    "\n",
    "cost_array =[]\n",
    "\n",
    "for i in range(10000):\n",
    "    h_theta = x_final @ theta\n",
    "    cost_array.append((1/len(y)) * sum((h_theta - y)**2))\n",
    "    gradient = (h_theta - y ) @ x_final\n",
    "    vt = vt_1 + alpha * gradient\n",
    "    theta = theta - vt\n",
    "\n",
    "print(np.linalg.norm(gradient,2))"
   ]
  },
  {
   "cell_type": "code",
   "execution_count": 7,
   "id": "13a47468",
   "metadata": {},
   "outputs": [
    {
     "data": {
      "text/plain": [
       "Text(0, 0.5, 'Y Values')"
      ]
     },
     "execution_count": 7,
     "metadata": {},
     "output_type": "execute_result"
    },
    {
     "data": {
      "image/png": "[encoded data removed]",
      "text/plain": [
       "<Figure size 432x288 with 1 Axes>"
      ]
     },
     "metadata": {
      "needs_background": "light"
     },
     "output_type": "display_data"
    }
   ],
   "source": [
    "plt.scatter(x, y)\n",
    "plt.plot(x, h_theta)\n",
    "plt.title('Real Output Vs Predicted Output')\n",
    "plt.xlabel('X Values')\n",
    "plt.ylabel('Y Values')"
   ]
  },
  {
   "cell_type": "code",
   "execution_count": 8,
   "id": "e270aef2",
   "metadata": {},
   "outputs": [
    {
     "data": {
      "text/plain": [
       "0.8236599106075065"
      ]
     },
     "execution_count": 8,
     "metadata": {},
     "output_type": "execute_result"
    }
   ],
   "source": [
    "from sklearn.metrics import r2_score\n",
    "r2_score(y, h_theta)"
   ]
  },
  {
   "cell_type": "code",
   "execution_count": 9,
   "id": "5841d68c",
   "metadata": {},
   "outputs": [
    {
     "data": {
      "text/plain": [
       "Text(0, 0.5, 'Cost Function')"
      ]
     },
     "execution_count": 9,
     "metadata": {},
     "output_type": "execute_result"
    },
    {
     "data": {
      "image/png": "[encoded data removed]",
      "text/plain": [
       "<Figure size 432x288 with 1 Axes>"
      ]
     },
     "metadata": {
      "needs_background": "light"
     },
     "output_type": "display_data"
    }
   ],
   "source": [
    "plt.plot(np.arange(10000), cost_array)\n",
    "plt.title('Epocks Vs cost Function')\n",
    "plt.xlabel('Numbers of Epochs')\n",
    "plt.ylabel('Cost Function')"
   ]
  },
  {
   "cell_type": "code",
   "execution_count": null,
   "id": "4cdf04fa",
   "metadata": {},
   "outputs": [],
   "source": []
  },
  {
   "cell_type": "code",
   "execution_count": null,
   "id": "409537f2",
   "metadata": {},
   "outputs": [],
   "source": []
  },
  {
   "cell_type": "code",
   "execution_count": 7,
   "id": "cefc009c",
   "metadata": {},
   "outputs": [
    {
     "name": "stdout",
     "output_type": "stream",
     "text": [
      "0.00015702110600603088\n"
     ]
    }
   ],
   "source": [
    "#NAG GD\n",
    "x = np.array(data[0])\n",
    "x_reshaped = x.reshape(x.shape[0],1)\n",
    "ones = np.ones(x.shape[0]).reshape((x.shape[0], 1))\n",
    "x_final = np.hstack([ones,x_reshaped])\n",
    "y = np.array(data[1])\n",
    "theta = np.array([0,0])\n",
    "alpha = .001\n",
    "gamma = .01\n",
    "vt_1 = np.array([0,0])\n",
    "\n",
    "cost_array =[]\n",
    "\n",
    "for i in range(10000):\n",
    "    \n",
    "    h_theta = x_final @ theta\n",
    "    gradient = (h_theta - y ) @ x_final\n",
    "    \n",
    "    theta_temp = theta - gamma * vt_1\n",
    "    h_theta = x_final @ theta_temp\n",
    "    gradient = (h_theta - y ) @ x_final\n",
    "    \n",
    "    theta = theta_temp - alpha * gradient\n",
    "    vt = gamma * vt_1 + alpha * gradient\n",
    "    \n",
    "    cost_array.append((1/len(y)) * sum((h_theta - y)**2))\n",
    "    \n",
    "print(np.linalg.norm(gradient,2))\n"
   ]
  },
  {
   "cell_type": "code",
   "execution_count": 8,
   "id": "3378f353",
   "metadata": {},
   "outputs": [
    {
     "data": {
      "text/plain": [
       "Text(0, 0.5, 'Y Values')"
      ]
     },
     "execution_count": 8,
     "metadata": {},
     "output_type": "execute_result"
    },
    {
     "data": {
      "image/png": "[encoded data removed]",
      "text/plain": [
       "<Figure size 432x288 with 1 Axes>"
      ]
     },
     "metadata": {
      "needs_background": "light"
     },
     "output_type": "display_data"
    }
   ],
   "source": [
    "plt.scatter(x, y)\n",
    "plt.plot(x, h_theta)\n",
    "plt.title('Real Output Vs Predicted Output')\n",
    "plt.xlabel('X Values')\n",
    "plt.ylabel('Y Values')"
   ]
  },
  {
   "cell_type": "code",
   "execution_count": 9,
   "id": "03c290e6",
   "metadata": {},
   "outputs": [
    {
     "data": {
      "text/plain": [
       "Text(0, 0.5, 'Cost Function')"
      ]
     },
     "execution_count": 9,
     "metadata": {},
     "output_type": "execute_result"
    },
    {
     "data": {
      "image/png": "[encoded data removed]",
      "text/plain": [
       "<Figure size 432x288 with 1 Axes>"
      ]
     },
     "metadata": {
      "needs_background": "light"
     },
     "output_type": "display_data"
    }
   ],
   "source": [
    "plt.plot(np.arange(10000), cost_array)\n",
    "plt.title('Epocks Vs cost Function')\n",
    "plt.xlabel('Numbers of Epochs')\n",
    "plt.ylabel('Cost Function')"
   ]
  },
  {
   "cell_type": "code",
   "execution_count": 10,
   "id": "b5fac390",
   "metadata": {},
   "outputs": [
    {
     "data": {
      "text/plain": [
       "0.8236599106075065"
      ]
     },
     "execution_count": 10,
     "metadata": {},
     "output_type": "execute_result"
    }
   ],
   "source": [
    "from sklearn.metrics import r2_score\n",
    "r2_score(y, h_theta)"
   ]
  },
  {
   "cell_type": "code",
   "execution_count": 2,
   "id": "ac89498c",
   "metadata": {},
   "outputs": [
    {
     "data": {
      "text/plain": [
       "[array([1, 2, 3]), array([4, 5])]"
      ]
     },
     "execution_count": 2,
     "metadata": {},
     "output_type": "execute_result"
    }
   ],
   "source": [
    "Q = np.array([1,2,3,4,5])\n",
    "Q_spli = np.array_split(Q,2)\n",
    "Q_spli"
   ]
  },
  {
   "cell_type": "code",
   "execution_count": null,
   "id": "09d5ff91",
   "metadata": {},
   "outputs": [],
   "source": []
  }
 ],
 "metadata": {
  "kernelspec": {
   "display_name": "Python 3",
   "language": "python",
   "name": "python3"
  },
  "language_info": {
   "codemirror_mode": {
    "name": "ipython",
    "version": 3
   },
   "file_extension": ".py",
   "mimetype": "text/x-python",
   "name": "python",
   "nbconvert_exporter": "python",
   "pygments_lexer": "ipython3",
   "version": "3.8.10"
  }
 },
 "nbformat": 4,
 "nbformat_minor": 5
}
