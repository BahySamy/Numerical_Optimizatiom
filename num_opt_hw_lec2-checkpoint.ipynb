{
 "cells": [
  {
   "cell_type": "code",
   "execution_count": null,
   "id": "fb3e8257",
   "metadata": {},
   "outputs": [],
   "source": [
    "#bahy samy\n",
    "#gr 6"
   ]
  },
  {
   "cell_type": "code",
   "execution_count": 2,
   "id": "af49da5d",
   "metadata": {},
   "outputs": [],
   "source": [
    "import numpy as np\n",
    "import matplotlib.pyplot as plt"
   ]
  },
  {
   "cell_type": "code",
   "execution_count": 6,
   "id": "f344fd80",
   "metadata": {},
   "outputs": [
    {
     "name": "stdout",
     "output_type": "stream",
     "text": [
      "9.999690791235865e-07\n",
      "-1.6520337700923995\n",
      "1.4451405542694882\n",
      "[-0.20689322 -0.20689322  1.23824734  2.68338789  4.12852845  5.573669\n",
      "  7.01880956  8.46395011  9.90909066 11.35423122 12.79937177 14.24451233]\n"
     ]
    }
   ],
   "source": [
    "x_points = np.array([1,1,2,3,4,5,6,7,8,9,10,11])\n",
    "y_points = np.array([1,2,3,1,4,5,6,4,7,10,15,19])\n",
    "theta0 = 0\n",
    "theta1 = 0\n",
    "h_theta = theta0 + theta1 * x_points\n",
    "alpha = .0005\n",
    "\n",
    "gradiant0 = (1/12) * sum(h_theta - y_points)\n",
    "gradiant1 = (1/12) * sum((h_theta - y_points)  * x_points)\n",
    "gradient = np.array([gradiant0, gradiant1])\n",
    "\n",
    "\n",
    "while np.linalg.norm(gradient,2) > 1e-6:\n",
    "    theta0 = theta0 - (alpha * gradient[0])\n",
    "    theta1 = theta1 - ( alpha * gradient[1])\n",
    "    h_theta = theta0 + theta1 * x_points\n",
    "    gradiant0 = (1/12) * sum(h_theta - y_points)\n",
    "    gradiant1 = (1/12) * sum((h_theta - y_points)  * x_points)\n",
    "    gradient = np.array([gradiant0, gradiant1])\n",
    "\n",
    "    \n",
    "     \n",
    "print(np.linalg.norm(gradient,2))        \n",
    "print(theta0)   \n",
    "print(theta1)\n",
    "print(h_theta)"
   ]
  },
  {
   "cell_type": "code",
   "execution_count": 7,
   "id": "71026e74",
   "metadata": {},
   "outputs": [
    {
     "data": {
      "text/plain": [
       "[<matplotlib.lines.Line2D at 0x23e9d904ac0>]"
      ]
     },
     "execution_count": 7,
     "metadata": {},
     "output_type": "execute_result"
    },
    {
     "data": {
      "image/png": "[encoded data removed]",
      "text/plain": [
       "<Figure size 432x288 with 1 Axes>"
      ]
     },
     "metadata": {
      "needs_background": "light"
     },
     "output_type": "display_data"
    }
   ],
   "source": [
    "import matplotlib.pyplot as plt\n",
    "%matplotlib inline\n",
    "\n",
    "plt.scatter(x_points,y_points)\n",
    "plt.plot(x_points,h_theta)\n"
   ]
  },
  {
   "cell_type": "code",
   "execution_count": null,
   "id": "8d5e2fe0",
   "metadata": {},
   "outputs": [],
   "source": []
  },
  {
   "cell_type": "code",
   "execution_count": null,
   "id": "e36d84f3",
   "metadata": {},
   "outputs": [],
   "source": []
  },
  {
   "cell_type": "code",
   "execution_count": null,
   "id": "f1e4ff64",
   "metadata": {},
   "outputs": [],
   "source": []
  },
  {
   "cell_type": "code",
   "execution_count": null,
   "id": "2c97eee5",
   "metadata": {},
   "outputs": [],
   "source": []
  },
  {
   "cell_type": "code",
   "execution_count": null,
   "id": "a6ed3ef4",
   "metadata": {},
   "outputs": [],
   "source": []
  },
  {
   "cell_type": "code",
   "execution_count": null,
   "id": "07063a58",
   "metadata": {},
   "outputs": [],
   "source": []
  },
  {
   "cell_type": "code",
   "execution_count": null,
   "id": "20c2c129",
   "metadata": {},
   "outputs": [],
   "source": []
  },
  {
   "cell_type": "code",
   "execution_count": null,
   "id": "8207ab4d",
   "metadata": {},
   "outputs": [],
   "source": []
  }
 ],
 "metadata": {
  "kernelspec": {
   "display_name": "Python 3",
   "language": "python",
   "name": "python3"
  },
  "language_info": {
   "codemirror_mode": {
    "name": "ipython",
    "version": 3
   },
   "file_extension": ".py",
   "mimetype": "text/x-python",
   "name": "python",
   "nbconvert_exporter": "python",
   "pygments_lexer": "ipython3",
   "version": "3.8.10"
  }
 },
 "nbformat": 4,
 "nbformat_minor": 5
}
